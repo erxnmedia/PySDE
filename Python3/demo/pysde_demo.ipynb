{
 "cells": [
  {
   "cell_type": "markdown",
   "metadata": {},
   "source": [
    "# pysde: Python Solver for Stochastic Differential Equations\n",
    "by Chu-Ching Huang"
   ]
  },
  {
   "cell_type": "markdown",
   "metadata": {},
   "source": [
    "### Abstract"
   ]
  },
  {
   "cell_type": "markdown",
   "metadata": {},
   "source": [
    "As an alternative to proprietary CAS, Matlab and Maple, open source language Python and its packages have potential for doing professional computational\n",
    "work.  This article describes a Python module for solving stochastic differential equations\n",
    "(SDEs): pysde makes available a) symbolic solvers for SDEs; b) stochastic numerical schemes,\n",
    "Euler and Milstein methods; c) and visualization tools for calculated data and Feynman-\n",
    "Kac simulation etc."
   ]
  },
  {
   "cell_type": "markdown",
   "metadata": {},
   "source": [
    "**pysde** is presented here with a Jupyter Python 3 notebook."
   ]
  },
  {
   "cell_type": "markdown",
   "metadata": {},
   "source": [
    "_Keywords:_ Stochastic Differential Equations (SDEs), pysde, Euler and Milstein\n",
    "Schemes, Jupyter, Python 3"
   ]
  },
  {
   "cell_type": "markdown",
   "metadata": {},
   "source": [
    "### Required packages"
   ]
  },
  {
   "cell_type": "code",
   "execution_count": 1,
   "metadata": {
    "collapsed": false
   },
   "outputs": [],
   "source": [
    "from sympy import *\n",
    "from pysde import *"
   ]
  },
  {
   "cell_type": "markdown",
   "metadata": {},
   "source": [
    "# 1. Introduction"
   ]
  },
  {
   "cell_type": "markdown",
   "metadata": {},
   "source": [
    "Differential equations are used to illustrate the evolution of a system.  Stochastic differential equations (SDEs) arise when a random noise (or white noise) is introduced into differential equations.  The white noise process, $X_t$, is formally defined as the derivative of the Brownian motion, $B(t)$:\n",
    "\n",
    "$$X_t={{d\\over{dt}} B(t)}$$"
   ]
  },
  {
   "cell_type": "markdown",
   "metadata": {},
   "source": [
    "It stands for phenomenon of the violent changes in a system or unpredictable observed data.\n",
    "The theory of SDEs is popular in both theoretical and applied science.  However, white noise does not exist as a function of $t$ in classical analysis since the trajectory of a Brownian motion which is nowhere differentiable."
   ]
  },
  {
   "cell_type": "markdown",
   "metadata": {},
   "source": [
    "During the middle of the last century, Japanese mathematician K. Itô and Russian mathematician\n",
    "Stratanovich established the theory of stochastic calculus which could compute calculus over\n",
    "such processes and their generalizations. An overly theoretical approach to stochastic calculus results in a steep learning curve for this field.  Some researchers have developed  computer packages able to do stochastic calculus. These have not resulted in wide adoption for various reasons such as unpopular development language (Axiom, see Kendall) or proprietary software (Maple, see Cyganowski). For this reason we have decided to implement in Python 3 a computer package\n",
    "to do stochastic calculus and solve SDEs."
   ]
  },
  {
   "cell_type": "markdown",
   "metadata": {},
   "source": [
    "Stochastic differential equations (SDE’s) play an important role in stochastic modeling. For\n",
    "example: in economics, solutions of the SDE’s are used to model share prices; in biology, solutions of SDE’s describe sizes of populations."
   ]
  },
  {
   "cell_type": "markdown",
   "metadata": {},
   "source": [
    "Python is an open-source object oriented interpreter language with a large number of libraries, or extensions, for interactive computing, numerical analysis and visualization."
   ]
  },
  {
   "cell_type": "markdown",
   "metadata": {},
   "source": [
    "We apply Python in quantitative work in scientific research to do\n",
    "* Solving models via optimization\n",
    "* Estimation and data manipulation\n",
    "* Simulation\n",
    "* Visualization of results"
   ]
  },
  {
   "cell_type": "markdown",
   "metadata": {},
   "source": [
    "Python provides us with:\n",
    "* Clean syntax easy to work with\n",
    "* Expressions, conditions, loops, etc.\n",
    "* Data types (numbers, lists, etc.)\n",
    "* Program structure (functions, objects, modules, etc.)\n",
    "* Numerical methods (Scipy/Numpy):\n",
    "    - Working with arrays\n",
    "    - Linear algebra\n",
    "    - Random number generation\n",
    "    - Numerical integration and numerical optimization etc;\n",
    "* Symbolic calculation (Sympy):\n",
    "    - Basic Calculus operation\n",
    "    - Solvers for Ordinary differential equations (ODEs) and Algebraic equationminimums;\n",
    "    - Mathematics Expression\n",
    "* Visualization (Matplotlib, Gephi):\n",
    "    - 2D/3D pictures\n",
    "    - Animation"
   ]
  },
  {
   "cell_type": "markdown",
   "metadata": {},
   "source": [
    "Jupyter interactive notebooks allow us to freely mix text, mathematics and graphics.  Jupyter notebooks can be exported to LaTeX to create high-quality typeset documents."
   ]
  },
  {
   "cell_type": "markdown",
   "metadata": {},
   "source": [
    "## 2. Itô and Stratonovich stochastic differential equations"
   ]
  },
  {
   "cell_type": "markdown",
   "metadata": {},
   "source": [
    "Itô and Stratonovich developed two different formulations for differentiation over white noise with different mathematical meanings. Itô's version uses the left rule to present the differential term of Brownian motion, $dB_t$.   Stratonovich uses the middle rule. We use different expressions for the two different kinds of one dimensional SDEs:"
   ]
  },
  {
   "cell_type": "markdown",
   "metadata": {},
   "source": [
    "**Itô version**"
   ]
  },
  {
   "cell_type": "markdown",
   "metadata": {},
   "source": [
    "$$dX_t=a(t,X_t)dt+b(t,X_t) dW_t$$"
   ]
  },
  {
   "cell_type": "markdown",
   "metadata": {},
   "source": [
    "**Stratonovich version**"
   ]
  },
  {
   "cell_type": "markdown",
   "metadata": {},
   "source": [
    "$$dXt=\\tilde{a}(X_t)dt+b(t,X_t)\\circ dW_t$$"
   ]
  },
  {
   "cell_type": "markdown",
   "metadata": {},
   "source": [
    "The $dt$ coefficient is called the _drift_ and the $dW_t$ coefficient is called the _diffusion_.  Both the solutions $X_t$ are the same when:"
   ]
  },
  {
   "cell_type": "markdown",
   "metadata": {},
   "source": [
    "$$\\tilde{a}(t,x)=a(t,x)-{1\\over2} b(t,x) {\\partial{b}\\over\\partial{x}}(t,x)$$"
   ]
  },
  {
   "cell_type": "markdown",
   "metadata": {},
   "source": [
    "or conversely"
   ]
  },
  {
   "cell_type": "markdown",
   "metadata": {},
   "source": [
    "$$a(t,x)=\\tilde{a}(t,x)+{1\\over2} b(t,x) {\\partial{b}\\over\\partial{x}}(t,x)$$"
   ]
  },
  {
   "cell_type": "markdown",
   "metadata": {},
   "source": [
    "The Stratonovich SDE uses the midpoint rule for stochastic integration and has the result just like a deterministic\n",
    "integral, for instance"
   ]
  },
  {
   "cell_type": "markdown",
   "metadata": {},
   "source": [
    "$$\\int_0^T W_t \\circ dW_t={1\\over2}W_T^2$$"
   ]
  },
  {
   "cell_type": "markdown",
   "metadata": {},
   "source": [
    "Itô SDE uses left sum rule to define stochastic integral and has the result:"
   ]
  },
  {
   "cell_type": "markdown",
   "metadata": {},
   "source": [
    "$$\\int_0^T W_t dW_t={1\\over2}W_T^2-{1\\over2}T$$"
   ]
  },
  {
   "cell_type": "markdown",
   "metadata": {},
   "source": [
    "Linear SDEs can be solved directly by the Itô rule. For more complicated case, the SDE can\n",
    "be transformed from Itô SDE into Stratonovich SDE, which can be solved by the rules applying to\n",
    "deterministic calculus."
   ]
  },
  {
   "cell_type": "markdown",
   "metadata": {},
   "source": [
    "## 3. Solvable Stratonovich SDEs and their Itô equivalents"
   ]
  },
  {
   "cell_type": "markdown",
   "metadata": {},
   "source": [
    "### Case $dX_t=b(X_t)\\circ dW_t$"
   ]
  },
  {
   "cell_type": "markdown",
   "metadata": {},
   "source": [
    "Directly integrating SDE obtains the solution as follows:\n",
    "\n",
    "$$X_t=\\psi^{-1}(W_t+\\psi(x))$$\n",
    "\n",
    "where\n",
    "\n",
    "$$\\psi(x)=\\int^x {1\\over{b(s)}} ds$$\n",
    "$$X_0=x$$\n",
    "\n",
    "The above Stratonovich SDE is equivalent to the following Itô SDE:\n",
    "\n",
    "$$dX_t={1\\over2}b(X_t)b'(X_t)dt+b(X_t)dW_t$$\n",
    "\n",
    "So this class of Itô SDE is solvable."
   ]
  },
  {
   "cell_type": "markdown",
   "metadata": {},
   "source": [
    "#### Example $b(x)=x^m$ for $m$ a positive integer. We directly use sympy’s ODE solver to solve this:"
   ]
  },
  {
   "cell_type": "code",
   "execution_count": 2,
   "metadata": {
    "collapsed": false
   },
   "outputs": [
    {
     "data": {
      "text/latex": [
       "$$X{\\left (W \\right )} = \\left(- C_{1} m + C_{1} - W m + W\\right)^{- \\frac{1}{m - 1}}$$"
      ],
      "text/plain": [
       "<IPython.core.display.Math object>"
      ]
     },
     "metadata": {},
     "output_type": "display_data"
    },
    {
     "data": {
      "text/latex": [
       "$$X{\\left (W \\right )} = \\begin{cases} C_{1} e^{W} & \\text{for}\\: m = 1 \\\\\\mathrm{NaN} & \\text{otherwise} \\end{cases}$$"
      ],
      "text/plain": [
       "<IPython.core.display.Math object>"
      ]
     },
     "metadata": {},
     "output_type": "display_data"
    }
   ],
   "source": [
    "W,m=symbols(\"W m\")\n",
    "X=Function(\"X\")\n",
    "b=X(W)**m\n",
    "X_prime=Derivative(X(W),W)\n",
    "sol=dsolve(X_prime-b,X(W))\n",
    "show(sol[0])\n",
    "show(sol[1])"
   ]
  },
  {
   "cell_type": "markdown",
   "metadata": {},
   "source": [
    "### Case $dX_t=\\alpha(t)b(X_t)dt+b(X_t)\\circ dW_t$"
   ]
  },
  {
   "cell_type": "markdown",
   "metadata": {},
   "source": [
    "The solution is\n",
    "\n",
    "$${1\\over{b(X_t)}} dX_t = \\alpha(t)dt+1\\circ dW_t$$\n",
    "\n",
    "so\n",
    "\n",
    "$$\\psi(X_t)-\\psi(X_0)=\\int^t \\alpha(s)ds+W_t$$\n",
    "\n",
    "so\n",
    "\n",
    "$$X_t=\\psi^{-1}\\left( \\int^t \\alpha(s)ds + W_t + \\psi(X_0) \\right)$$\n",
    "\n",
    "where $\\psi$  and $X_0$ are the same as defined in previous case. In other words, it is the solution of the following Itô SDE:\n",
    "\n",
    "$$dX_t=\\left( \\alpha(t) b(X_t) + {1\\over2} b(X_t) b'(X_t) \\right) dt + b(X_t) dW_t $$"
   ]
  },
  {
   "cell_type": "markdown",
   "metadata": {},
   "source": [
    "#### Example $\\alpha(t)=a; b(x)=x^2; X_0=x$"
   ]
  },
  {
   "cell_type": "markdown",
   "metadata": {},
   "source": [
    "The solution using **sympy** is"
   ]
  },
  {
   "cell_type": "code",
   "execution_count": 3,
   "metadata": {
    "collapsed": false
   },
   "outputs": [
    {
     "data": {
      "text/latex": [
       "$$x = - \\frac{1}{- C + W + a t}$$"
      ],
      "text/plain": [
       "<IPython.core.display.Math object>"
      ]
     },
     "metadata": {},
     "output_type": "display_data"
    }
   ],
   "source": [
    "a,x,t,C,W=symbols(\"a x t C W\")\n",
    "fac=a*t+W\n",
    "sol=solve(integrate(1/x**2,x)+C-fac,x)\n",
    "show(Eq(x,sol[0]))"
   ]
  },
  {
   "cell_type": "markdown",
   "metadata": {},
   "source": [
    "## 4. Solvable linear Itô SDEs"
   ]
  },
  {
   "cell_type": "markdown",
   "metadata": {},
   "source": [
    "The theory of existence and uniqueness of solution of linear SDEs can be found in the studies (Øksendal, Klebaner). The solution for linear SDEs is implemented in **pysde** with function **SDE_solver**."
   ]
  },
  {
   "cell_type": "markdown",
   "metadata": {},
   "source": [
    "### Case $dX_t=(a_1(t)X_t+a_2(t))dt+(b_1(t)X_t+b_2(t)) dW_t$"
   ]
  },
  {
   "cell_type": "markdown",
   "metadata": {},
   "source": [
    "By method of integrating factor, the solution of this linear SDE is:\n",
    "\n",
    "$$X_t=\\Phi_{t_0,t}(X_{t_0}+\n",
    "\\int_{t_0}^t \\Phi_{t_0,s}^{-1}(a_{2}(s)-b_1(s) b_2(s))ds + \n",
    "\\int_{t_0}^t \\Phi_{t_0,s}^{-1}  b_2(s)dW_s$$\n",
    "\n",
    "where the integrating factor is:\n",
    "\n",
    "$$\\Phi_{t_0,t}=\\exp\\left(\\int_{t_0}^t \\left( a_1(s)-{b_1^2(s)\\over2}\\right) ds+\\int_{t_0}^t b_1(s)dW_s\\right)$$"
   ]
  },
  {
   "cell_type": "markdown",
   "metadata": {},
   "source": [
    "#### Example $a_1(t)=a_2(t)=b_1(t)=0; b_2(t)=1; X_0=1$"
   ]
  },
  {
   "cell_type": "markdown",
   "metadata": {},
   "source": [
    "Solution:"
   ]
  },
  {
   "cell_type": "code",
   "execution_count": 4,
   "metadata": {
    "collapsed": false
   },
   "outputs": [
    {
     "data": {
      "text/latex": [
       "$$x{\\left (t,w \\right )} = w + 1$$"
      ],
      "text/plain": [
       "<IPython.core.display.Math object>"
      ]
     },
     "metadata": {},
     "output_type": "display_data"
    }
   ],
   "source": [
    "x,t,w=symbols('x t w')\n",
    "sol1=SDE_solver(0,1,0,1)\n",
    "show(Eq(x(t,w),sol1))"
   ]
  },
  {
   "cell_type": "markdown",
   "metadata": {},
   "source": [
    "#### Example $a_1(t)=0; a_2(t)=\\gamma; b_1(t)=b; b_2(t)=0; b\\in\\Re$"
   ]
  },
  {
   "cell_type": "markdown",
   "metadata": {},
   "source": [
    "$$X_t=F_t^{-1} X_0+F_t^{-1} \\int_0^t \\gamma F_s ds$$\n",
    "\n",
    "with integrating factor\n",
    "\n",
    "$$F_t= \\exp{ \\left( -b W_t+{1\\over2} b^2 t \\right) }$$"
   ]
  },
  {
   "cell_type": "markdown",
   "metadata": {},
   "source": [
    "#### Example $a_1(t)=1; a_2(t)=0; b_1(t)=1; b_2(t)=0; X_0\\in\\Re$"
   ]
  },
  {
   "cell_type": "markdown",
   "metadata": {},
   "source": [
    "The solution is $\\exp{(W_t+{t\\over2})}$. From the Stratonovich approach, above SDE becomes:\n",
    "\n",
    "$$dX_t={1\\over2}X_t dt+X_t\\circ dW_t$$\n",
    "\n",
    "We can solve Stratonovich SDE using techniques of classical ordinary differential equation.  We solve the Stratonovich SDE by the method of separating variables:\n",
    "\n",
    "$${1\\over{X_t}} dX_t = {1\\over2}dt+1\\circ dW_t = {1\\over2}dt+dW_t$$\n",
    "\n",
    "so\n",
    "\n",
    "$$X_t=x+\\exp{ \\left({1\\over2}t+W_t \\right)}$$"
   ]
  },
  {
   "cell_type": "markdown",
   "metadata": {},
   "source": [
    "By **pysde**, we reproduce the above solution:"
   ]
  },
  {
   "cell_type": "code",
   "execution_count": 5,
   "metadata": {
    "collapsed": false
   },
   "outputs": [
    {
     "data": {
      "text/latex": [
       "$$x{\\left (t,w \\right )} = x_{0} e^{0.5 t + w}$$"
      ],
      "text/plain": [
       "<IPython.core.display.Math object>"
      ]
     },
     "metadata": {},
     "output_type": "display_data"
    }
   ],
   "source": [
    "t0,x0=symbols('t0 x0')\n",
    "sol=SDE_solver(x,x,0,x0)\n",
    "show(Eq(x(t,w),sol))"
   ]
  },
  {
   "cell_type": "markdown",
   "metadata": {},
   "source": [
    "### Case $dX_t=(a_1(t)X_t+a_2(t))dt+(b_1(t)X_t+b_2(t)) dW_t$"
   ]
  },
  {
   "cell_type": "markdown",
   "metadata": {},
   "source": [
    "#### Example $a_1(x)={2\\over{1+t}}; a_2(x)=-a(1+t)^2; b_1(t)=0; b_2(t)=a(1+t)^2; t(0)=t_0;X_0=x_0; a>0$"
   ]
  },
  {
   "cell_type": "markdown",
   "metadata": {},
   "source": [
    "By **pysde**, the solution is:"
   ]
  },
  {
   "cell_type": "code",
   "execution_count": 6,
   "metadata": {
    "collapsed": false
   },
   "outputs": [
    {
     "data": {
      "text/latex": [
       "$$X{\\left (W,t \\right )} = \\frac{\\left(t + 1\\right)^{2}}{\\left(t_{0} + 1\\right)^{2}} \\left(W a \\left(t_{0} + 1\\right)^{2} - a t \\left(t_{0} + 1\\right)^{2} + a t_{0} \\left(t_{0} + 1\\right)^{2} + x_{0}\\right)$$"
      ],
      "text/plain": [
       "<IPython.core.display.Math object>"
      ]
     },
     "metadata": {},
     "output_type": "display_data"
    }
   ],
   "source": [
    "x,dx,w,dw,t,dt,a,x0,t0,W,X=symbols('x dx w dw t dt a x0 t0 W X')\n",
    "drift=2*x/(1+t)-a*(1+t)**2\n",
    "diffusion=a*(1+t)**2\n",
    "sol=SDE_solver(drift,diffusion,t0,x0)\n",
    "show(Eq(X(W,t),sol.subs({w:W})))"
   ]
  },
  {
   "cell_type": "markdown",
   "metadata": {},
   "source": [
    "#### Example $a_1(x)={2\\over{t-1}}; a_2(x)=0; b_1(t)=0; b_2(t)=\\sqrt{t(1-t)}0\\leq t<1; X_0=x_0$"
   ]
  },
  {
   "cell_type": "markdown",
   "metadata": {},
   "source": [
    "By **pysde**, the resulting solution is a Gaussian process:"
   ]
  },
  {
   "cell_type": "code",
   "execution_count": 7,
   "metadata": {
    "collapsed": false
   },
   "outputs": [
    {
     "data": {
      "text/latex": [
       "$$\\frac{\\left(t_{0} + 1\\right)^{2}}{\\left(t + 1\\right)^{2}} \\left(x_{0} + N{\\left (0,- \\frac{t^{7}}{7 t_{0}^{4} + 28 t_{0}^{3} + 42 t_{0}^{2} + 28 t_{0} + 7} - \\frac{t^{6}}{2 t_{0}^{4} + 8 t_{0}^{3} + 12 t_{0}^{2} + 8 t_{0} + 2} - \\frac{2 t^{5}}{5 t_{0}^{4} + 20 t_{0}^{3} + 30 t_{0}^{2} + 20 t_{0} + 5} + \\frac{t^{4}}{2 t_{0}^{4} + 8 t_{0}^{3} + 12 t_{0}^{2} + 8 t_{0} + 2} + \\frac{t^{3}}{t_{0}^{4} + 4 t_{0}^{3} + 6 t_{0}^{2} + 4 t_{0} + 1} + \\frac{t^{2}}{2 t_{0}^{4} + 8 t_{0}^{3} + 12 t_{0}^{2} + 8 t_{0} + 2} \\right )}\\right)$$"
      ],
      "text/plain": [
       "<IPython.core.display.Math object>"
      ]
     },
     "metadata": {},
     "output_type": "display_data"
    }
   ],
   "source": [
    "drift=-2*x/(1+t)\n",
    "diffusion=sqrt(t*(1-t))\n",
    "sol=SDE_solver(drift,diffusion,t0,x0)\n",
    "show(sol)"
   ]
  },
  {
   "cell_type": "markdown",
   "metadata": {},
   "source": [
    "$N(·)$ is a class which is defined in the pysde module and represents the Gaussian process."
   ]
  },
  {
   "cell_type": "markdown",
   "metadata": {},
   "source": [
    "### Case $dX_t = \\gamma(t,X_t) dt + b(t) X_t dW_t$"
   ]
  },
  {
   "cell_type": "markdown",
   "metadata": {},
   "source": [
    "Define\n",
    "\n",
    "$$Y_t(\\omega)=F_t(\\omega) X_t(\\omega)$$\n",
    "\n",
    "where integrating factor\n",
    "\n",
    "$$F_t=\\exp{ \n",
    "    \\left( -\\int_0^t b(s) dW_t+ {1\\over2} \\int_0^t b^2(s) ds \n",
    "    \\right) \n",
    "          }$$\n",
    "\n",
    "Then $Y_t(\\omega)$ satisfies the ordinary differential equation:\n",
    "\n",
    "$$Y_0=x$$\n",
    "$${{d Y_t(\\omega)}\\over{dt}} = F_t(\\omega) \\gamma(t,F_t^{-1}(\\omega) Y_t(\\omega))$$"
   ]
  },
  {
   "cell_type": "markdown",
   "metadata": {},
   "source": [
    "and $$X_t = F^{- 1}_t Y_t$$"
   ]
  },
  {
   "cell_type": "markdown",
   "metadata": {},
   "source": [
    "#### Example  $\\gamma(t,x)={{a t}\\over x}; b(t)=b$"
   ]
  },
  {
   "cell_type": "markdown",
   "metadata": {},
   "source": [
    "Solution using **sympy**:"
   ]
  },
  {
   "cell_type": "code",
   "execution_count": 8,
   "metadata": {
    "collapsed": false
   },
   "outputs": [
    {
     "data": {
      "text/latex": [
       "$$- \\sqrt{2} \\left(\\sqrt{C_{1} + a \\int t e^{b \\left(- 2 W + b t\\right)}\\, dt}\\right) e^{W b - \\frac{b^{2} t}{2}}$$"
      ],
      "text/plain": [
       "<IPython.core.display.Math object>"
      ]
     },
     "metadata": {},
     "output_type": "display_data"
    }
   ],
   "source": [
    "W =Symbol(\"W\")\n",
    "X = Function(\"X\")(W)\n",
    "a,b=symbols(\"a b\")\n",
    "A=a*t/X\n",
    "B=b*X\n",
    "sol=Reduce2(A,B)\n",
    "show(sol)"
   ]
  },
  {
   "cell_type": "markdown",
   "metadata": {},
   "source": [
    "#### Example $\\gamma(t,x)={1\\over x}; b(t)=b; X_0>0$"
   ]
  },
  {
   "cell_type": "markdown",
   "metadata": {},
   "source": [
    "Let\n",
    "\n",
    "$$F_t=\\exp{ \\left( -b W_t+{1\\over2} b^2 t \\right) } $$\n",
    "\n",
    "and\n",
    "\n",
    "$${{dY_t(\\omega)}\\over{dt}} = {{F_t}\\over{X_t}} = {{F_t^2}\\over{Y_t}}$$\n",
    "\n",
    "so\n",
    "\n",
    "$$Y_t^2(\\omega)=x^2+2 \\int_0^t \\exp{ \\left( -2b W_s+b^2 s \\right)} ds$$\n",
    "\n",
    "so\n",
    "\n",
    "$$X_t(\\omega) = F_t^{-1}(\\omega) Y_t(\\omega)\n",
    "= \\exp{ \\left( b W_t - {1\\over2} b^2 t \\right)}\n",
    "\\sqrt{x^2 + 2 \\int_0^t \\exp{(-2 b W_s+b^2 s)} ds}$$"
   ]
  },
  {
   "cell_type": "markdown",
   "metadata": {},
   "source": [
    "#### Example $\\gamma(t,x)=r x(K-x); b(t)=b; X_0>0; K>0,r,b\\in\\Re$"
   ]
  },
  {
   "cell_type": "markdown",
   "metadata": {},
   "source": [
    "Define integrating factor, $F_t$, as follows (Gard):\n",
    "\n",
    "$$F_t=\\exp{\\left( (-r K+{1\\over2}b^2)t-b W_t \\right)}$$\n",
    "\n",
    "Then the SDE of $Y_t=F_t X_t$ satisfies the following ODE:\n",
    "\n",
    "$$dY_t=F_t dX_t+X_t dF_t+[X_t,F_t]$$\n",
    "$$=F_t (r X_t(K-X_t) dt+b X_t dW_t)+((-{r\\over K}+{{b^2}\\over 2})dt-b dW_t)X_t F_t\n",
    "+{1\\over2}(-b F_t)(b X_t)dt$$\n",
    "$$={-r \\over{F_t}}{Y_t^2}$$\n",
    "\n",
    "where $[ •, •]$ is the quadratic variation [Klebaner]. The solution of SDE is thus:\n",
    "\n",
    "$$X_t = {{\n",
    "\\exp{((r K-{{b^2}\\over2})t+b W_t)}\n",
    "}\\over{\n",
    "x^{-1}+r \\int_0^t \\exp{((r K-{{b^2}\\over2})s+b W_s)} ds\n",
    "}}$$"
   ]
  },
  {
   "cell_type": "markdown",
   "metadata": {},
   "source": [
    "#### Example $\\gamma(t,x)=\\kappa x(\\alpha-\\ln{x}); b(t)=\\sigma; X_0=x; \\kappa,\\alpha\\sigma>0$"
   ]
  },
  {
   "cell_type": "markdown",
   "metadata": {},
   "source": [
    "Then\n",
    "\n",
    "$$dY_t = {1\\over{X_t}} dX_t - {1\\over2} \\sigma^2 dt= \\kappa(\\alpha-Y_t-{{\\sigma^2}\\over{2\\kappa}}) dt + \\sigma dW_t$$\n",
    "\n",
    "So\n",
    "\n",
    "$$dY_t+\\kappa Y_t dt = \\kappa \\left(\\alpha - {{\\sigma^2}\\over{2 \\kappa}} \\right) dt + \\sigma dW_t$$\n",
    "\n",
    "So\n",
    "\n",
    "$$d(e^{\\kappa t} Y_t) = e^{\\kappa t} \\left(\\kappa \n",
    "         \\left( \\alpha - {{\\sigma^2}\\over{2 \\kappa}} \\right) dt + \n",
    "         \\sigma dW_t \\right)$$\n",
    "\n",
    "So\n",
    "\n",
    "$$e^{\\kappa t} Y_t-\\ln{x}=\n",
    "\\int_0^t e^{\\kappa s} \\left(\\kappa \n",
    "         \\left( \\alpha - {{\\sigma^2}\\over{2 \\kappa}} \\right) ds + \n",
    "         \\sigma dW_s \\right) ds$$\n",
    "\n",
    "This implies:\n",
    "\n",
    "$$X_t=\\exp{\n",
    "\\left(\n",
    "e^{-\\kappa t} \\ln{x} +\n",
    "\\left(\\alpha-{{\\sigma^2}\\over{2 \\kappa}} \\right) (1-e^{\\kappa t}) +\n",
    "\\sigma e^{-\\kappa t} \\int_0^t e^{\\kappa s} dW_s\n",
    "\\right)\n",
    "}$$ "
   ]
  },
  {
   "cell_type": "markdown",
   "metadata": {},
   "source": [
    "The constant in the last result is:\n",
    "\n",
    "$$X_0=x= \\exp{\\left( bW_0-{1\\over 2}b^2 \\times 0 \\right)}\n",
    "\\sqrt{C1+2 \\int_0^0 \\exp{(-2 b W_s+b^2 s)}} ds$$\n",
    "$$ = \\sqrt{C1}$$\n",
    "\n",
    "so\n",
    "\n",
    "$$C1=x^2$$"
   ]
  },
  {
   "cell_type": "markdown",
   "metadata": {},
   "source": [
    "One of advantages of Python language is that supports namespaces. It is very useful to declare\n",
    "variable $x$ and define function $Y$ in Python programming with the same meaning as in mathematics.  Sympy package gives us the “Symbol/symbols” methods for declaring variables names and the “Function” method for declaring function names.  We use these features to express in **sympy** the solution to the above equation:"
   ]
  },
  {
   "cell_type": "code",
   "execution_count": 9,
   "metadata": {
    "collapsed": false
   },
   "outputs": [
    {
     "data": {
      "text/latex": [
       "$$Y{\\left (t \\right )} = \\sqrt{2} \\sqrt{C_{1} + \\int e^{b \\left(- 2 W + b t\\right)}\\, dt}$$"
      ],
      "text/plain": [
       "<IPython.core.display.Math object>"
      ]
     },
     "metadata": {},
     "output_type": "display_data"
    }
   ],
   "source": [
    "r,W,b=symbols('gamma W, b')\n",
    "X=Function('X')\n",
    "r=1/X(W)\n",
    "F=exp(-integrate(b,W)+integrate(b*b,t)/2)\n",
    "Y=Function('Y')(t)\n",
    "WW=Function('WW')(t)\n",
    "rr=r.subs({X(W):Y/F})\n",
    "Y_prime=Derivative(Y,t)\n",
    "rrr=(rr*F).subs({W:WW})\n",
    "sol=dsolve(Y_prime-rrr,Y)\n",
    "show(sol[1].subs({WW:W}))"
   ]
  },
  {
   "cell_type": "markdown",
   "metadata": {},
   "source": [
    "## 5. Solution of Komolgorov Forward PDE"
   ]
  },
  {
   "cell_type": "markdown",
   "metadata": {},
   "source": [
    "The solution of the SDE"
   ]
  },
  {
   "cell_type": "markdown",
   "metadata": {},
   "source": [
    "$$dX_t = \\mu(X_t) dt + \\sigma(X_t) dW_t$$"
   ]
  },
  {
   "cell_type": "markdown",
   "metadata": {},
   "source": [
    "is a process with which its probability density function, $f(x, t)$, satisfies Komolgorov's forward equation:"
   ]
  },
  {
   "cell_type": "markdown",
   "metadata": {},
   "source": [
    "$$\\frac{\\partial f}{\\partial t} = \\frac{\\partial \\mu(x)f(t,x)}{\\partial x} +\\frac{\\partial^2 (\\sigma^2(x)f(x,t))}{\\partial x^2}$$"
   ]
  },
  {
   "cell_type": "markdown",
   "metadata": {},
   "source": [
    "Generally, an explicit solution is not solvable.  However, it is quiet easy to discuss the probability\n",
    "density function as it has reached its equilibrium. The stationary solution of probability density\n",
    "function is given by Wright’s formula:"
   ]
  },
  {
   "cell_type": "markdown",
   "metadata": {},
   "source": [
    "$$ f(x)=\\frac{\\phi}{\\sigma^2}\\exp\\left({\\int^x\\frac{\\mu(s)}{\\sigma^2(s)}d s}\\right) $$"
   ]
  },
  {
   "cell_type": "markdown",
   "metadata": {
    "collapsed": false
   },
   "source": [
    "where $\\phi$ is chosen so as to make $\\int^{\\infty}_{-\\infty}f(x) d x=1$."
   ]
  },
  {
   "cell_type": "markdown",
   "metadata": {
    "collapsed": false
   },
   "source": [
    "**pysde** provides the function $KolmogorovFE_Spdf(μ,\u001b\\sigma^2[,a,b])$ to solve the stationary probability\n",
    "density function, $f(x)$. The optional $[a,b]$ is $[−∞,∞]$ by default. We consider three cases, where $r,\\epsilon > 0$: normal, Gamma and Beta case."
   ]
  },
  {
   "cell_type": "markdown",
   "metadata": {},
   "source": [
    "####  Normal case"
   ]
  },
  {
   "cell_type": "markdown",
   "metadata": {},
   "source": [
    "The pdf of $X$ which satisfies  $dX_t = r(G-X_t) dt + \\sqrt{\\epsilon} dW_t$ is:"
   ]
  },
  {
   "cell_type": "code",
   "execution_count": 10,
   "metadata": {
    "collapsed": false
   },
   "outputs": [
    {
     "data": {
      "text/latex": [
       "$$\\frac{\\sqrt{2}}{2 \\sqrt{\\pi} \\sqrt{\\frac{\\epsilon}{r}}} e^{\\frac{r}{2 \\epsilon} \\left(- G^{2} + x \\left(2 G - x\\right)\\right)}$$"
      ],
      "text/plain": [
       "<IPython.core.display.Math object>"
      ]
     },
     "metadata": {},
     "output_type": "display_data"
    }
   ],
   "source": [
    "x,dx=symbols('x dx')\n",
    "r,G,e,d=symbols('r G epsilon delta')\n",
    "show(KolmogorovFE_Spdf(r*(G-x),e))"
   ]
  },
  {
   "cell_type": "markdown",
   "metadata": {},
   "source": [
    "#### Gamma case"
   ]
  },
  {
   "cell_type": "markdown",
   "metadata": {},
   "source": [
    "The pdf of $X$ which satisfies $dX_t = r(G-X_t) dt + \\sqrt{\\epsilon X_t} dW_t$ is"
   ]
  },
  {
   "cell_type": "code",
   "execution_count": 11,
   "metadata": {
    "collapsed": false
   },
   "outputs": [
    {
     "data": {
      "text/latex": [
       "$$\\frac{x^{G r - 1} \\left(\\frac{\\epsilon}{r}\\right)^{G r}}{\\Gamma{\\left(G r \\right)}} e^{- \\frac{r x}{\\epsilon}}$$"
      ],
      "text/plain": [
       "<IPython.core.display.Math object>"
      ]
     },
     "metadata": {},
     "output_type": "display_data"
    }
   ],
   "source": [
    "show(KolmogorovFE_Spdf(r*(G-x),e*x,0,oo))"
   ]
  },
  {
   "cell_type": "markdown",
   "metadata": {},
   "source": [
    "#### Beta case"
   ]
  },
  {
   "cell_type": "markdown",
   "metadata": {},
   "source": [
    "The pdf of X which satisfies $dX_t = r(G-X_t) dt + \\sqrt{\\epsilon X_t(1-X_t)} dW_t$ is:"
   ]
  },
  {
   "cell_type": "code",
   "execution_count": 12,
   "metadata": {
    "collapsed": false
   },
   "outputs": [
    {
     "data": {
      "text/latex": [
       "$$\\frac{x^{\\frac{G}{\\delta} - 1} \\left(- x + 1\\right)^{- \\frac{G}{\\delta} - 1 + \\frac{1}{\\delta}} \\Gamma{\\left(\\frac{1}{\\delta} \\right)}}{\\Gamma{\\left(\\frac{G}{\\delta} \\right)} \\Gamma{\\left(\\frac{G}{\\delta} \\left(-1 + \\frac{1}{G}\\right) \\right)}}$$"
      ],
      "text/plain": [
       "<IPython.core.display.Math object>"
      ]
     },
     "metadata": {},
     "output_type": "display_data"
    }
   ],
   "source": [
    "l=KolmogorovFE_Spdf(r*(G-x),e*x*(1-x),0,1)\n",
    "show(l.subs({e:r*d}))"
   ]
  },
  {
   "cell_type": "markdown",
   "metadata": {},
   "source": [
    "## 6. Solution of Kolmogorov backward PDE"
   ]
  },
  {
   "cell_type": "markdown",
   "metadata": {},
   "source": [
    "Consider general SDE,"
   ]
  },
  {
   "cell_type": "markdown",
   "metadata": {},
   "source": [
    "$$t\\leq s \\leq T$$\n",
    "$$X_t=x$$\n",
    "$$dX_s=\\mu(s,X_s)ds+\\sigma(s,X_s)dW_s$$"
   ]
  },
  {
   "cell_type": "markdown",
   "metadata": {},
   "source": [
    "Suppose that solution of equations is $X_s^{(t,x)}$.  Then \n",
    "$u(t,T , x)=E[\\phi(X_T)|X_t=x]=E[\\phi(X_T^{(t,x)})]$ would satisfy the following Kolmogorov backward partial differential equation:"
   ]
  },
  {
   "cell_type": "markdown",
   "metadata": {},
   "source": [
    "$$u(T,T,x)=\\phi(x)$$\n",
    "$$(u,t,t,x)=\\phi(x)$$\n",
    "$${\\partial{u}\\over\\partial{t}}+\n",
    "\\mu(t,x) {\\partial{u}\\over\\partial{x}}+\n",
    "{1\\over2}\\sigma^2(t,x) {\\partial^2{u}\\over\\partial{x^2}} = 0$$\n",
    "$${\\partial{u}\\over\\partial{t}}-\n",
    "\\mu(t,x) {\\partial{u}\\over\\partial{x}}-\n",
    "{1\\over2}\\sigma^2(t,x) {\\partial^2{u}\\over\\partial{x^2}} = 0$$"
   ]
  },
  {
   "cell_type": "markdown",
   "metadata": {},
   "source": [
    "where $\\phi(x)$ is smooth."
   ]
  },
  {
   "cell_type": "markdown",
   "metadata": {},
   "source": [
    "For example, suppose that $u(t, T , x)$ satisfies the following pde:"
   ]
  },
  {
   "cell_type": "markdown",
   "metadata": {},
   "source": [
    "$$u(T,T,x)=e^{{-x^2}\\over2}$$\n",
    "$${\\partial{u}\\over\\partial{t}} +\n",
    "{1\\over2} {\\partial^2{u}\\over\\partial{x^2}} = 0$$"
   ]
  },
  {
   "cell_type": "markdown",
   "metadata": {},
   "source": [
    "This implies $\\mu=0$, $\\sigma=1$ and $dX_s=dW_x$ so \n",
    "$X_u=x+W_u-W_t$."
   ]
  },
  {
   "cell_type": "markdown",
   "metadata": {},
   "source": [
    "Therefore, the solution of PDE can be derived as follows:"
   ]
  },
  {
   "cell_type": "markdown",
   "metadata": {},
   "source": [
    "$$u(t,T,x)=E[e^{-X_T^2/2}|X_t=x]$$\n",
    "$$=E[\\exp{(-(x+W_T-W_t)^2/2)}]$$\n",
    "$$=\\int_{-\\infty}{\\infty} e^{-(x+y)^2/2}\n",
    "{1\\over{\\sqrt{2 \\pi(T-t)}}}\n",
    "e^{-{y^2}\\over{2(T-t)}} dy$$\n",
    "$$= {1\\over\\sqrt{T-t+1}} e^{-{{x^2}\\over{2(T-t+1)}}}$$"
   ]
  },
  {
   "cell_type": "markdown",
   "metadata": {},
   "source": [
    "since the distribution of $W_T-W_t+x$ is ${\\cal N}(x,T-t)$.  The full steps of pde solver in **pysde**\n",
    "could be simply implemented by solving SDE for $X_t$, and evaluating the conditional expectation\n",
    "as follows:"
   ]
  },
  {
   "cell_type": "code",
   "execution_count": 13,
   "metadata": {
    "collapsed": false
   },
   "outputs": [
    {
     "data": {
      "text/latex": [
       "$$\\frac{\\sqrt{2}}{2 \\sqrt{\\pi} \\sqrt{T - t}}$$"
      ],
      "text/plain": [
       "<IPython.core.display.Math object>"
      ]
     },
     "metadata": {},
     "output_type": "display_data"
    }
   ],
   "source": [
    "T=Symbol('T')\n",
    "sol=SDE_solver(0,1,t,x)\n",
    "func=sol**2-w**2/2/(T-t)\n",
    "l=normal_int(func,w)\n",
    "show(simplify(1/sqrt(2*pi*(T-t))))"
   ]
  },
  {
   "cell_type": "markdown",
   "metadata": {},
   "source": [
    "**pysde** implements function **normal_int** to\n",
    "evaluate integrals of functions of form $\\exp{(Ax^2+Bx+C)}$, since it is necessary in evaluating\n",
    "probability of function involving Wiener processes but isn't solvable by Sympy’s **integrate**\n",
    "function."
   ]
  },
  {
   "cell_type": "markdown",
   "metadata": {},
   "source": [
    "## 7. Euler and Milstein discretization schemes"
   ]
  },
  {
   "cell_type": "markdown",
   "metadata": {},
   "source": [
    "Using **pysde** we show how to compute Euler and Milstein discretizations of $dX_t=-X_t dt+X_t dW_t$ with $X_0=1$:"
   ]
  },
  {
   "cell_type": "code",
   "execution_count": 14,
   "metadata": {
    "collapsed": false
   },
   "outputs": [],
   "source": [
    "x,dx=symbols('x dx')\n",
    "(drift,diffusion)=(-x,x)\n",
    "nt=1000\n",
    "x0=1.;t0=0.;tn=10.\n",
    "T=linspace(t0, tn, nt+1)\n",
    "X=Euler(drift,diffusion,x0,t0,tn,nt)\n",
    "X,Y=Milstein(drift,diffusion,x0,t0,tn,nt)"
   ]
  },
  {
   "cell_type": "markdown",
   "metadata": {},
   "source": [
    "Using Python's **matplotlib** package we can then plot these paths:"
   ]
  },
  {
   "cell_type": "code",
   "execution_count": 15,
   "metadata": {
    "collapsed": false
   },
   "outputs": [
    {
     "data": {
      "image/png": "[encoded data removed]",
      "text/plain": [
       "<matplotlib.figure.Figure at 0x8a393c8>"
      ]
     },
     "metadata": {},
     "output_type": "display_data"
    }
   ],
   "source": [
    "%matplotlib inline\n",
    "import matplotlib.pylab as plt\n",
    "plt.figure(figsize=(10,6))\n",
    "plt.plot(T, X, color=\"blue\", linestyle=\"-\", label=\"Euler\")\n",
    "plt.plot(T, Y, color=\"red\", linestyle=\"--\", label=\"Milstein\")\n",
    "plt.plot(T, np.exp(-T), color=\"green\", linewidth=2.5, linestyle=\"--\", label=r\"$\\exp(-t)$\")\n",
    "plt.ylim(X.min()-0.2, X.max()+0.2)\n",
    "plt.title(r\"$d X_t=-X_t dt+X_td W_t,X_0=1$\")\n",
    "plt.legend();"
   ]
  },
  {
   "cell_type": "markdown",
   "metadata": {},
   "source": [
    "## 8. Conclusion"
   ]
  },
  {
   "cell_type": "markdown",
   "metadata": {},
   "source": [
    "The focus of our research was to develop a computer package for solving SDEs. To accomplish our\n",
    "objective we investigated the use of Python which\n",
    "allows us to formulate mathematics and provides high-performance functionality for computation.\n",
    "Our investigation centered on symbolic SDEs solver and integrated working environment\n",
    "with interactivity and publishing system."
   ]
  },
  {
   "cell_type": "markdown",
   "metadata": {},
   "source": [
    "Stochastic differential equations frequently appear in quantitative analysis. pysde provides the solvers for SDEs, stationary probability density function, numerical schemes and visualization. With pysde, it is relatively easy to derive the probability\n",
    "density function of the dependent variable as it has reached statistical equilibrium."
   ]
  },
  {
   "cell_type": "markdown",
   "metadata": {},
   "source": [
    "#### Acknowledgments"
   ]
  },
  {
   "cell_type": "markdown",
   "metadata": {},
   "source": [
    "This article is supported by NSC project and METO."
   ]
  },
  {
   "cell_type": "markdown",
   "metadata": {},
   "source": [
    "## References"
   ]
  },
  {
   "cell_type": "markdown",
   "metadata": {},
   "source": [
    "#### Theory of Stochastic Calculus"
   ]
  },
  {
   "cell_type": "markdown",
   "metadata": {},
   "source": [
    "* Cobb, Loren, Stochastic Differential Equations for the Social Sciences, Mathematical Frontier\n",
    "of the Social and Policy Sciences, Cobb and Thraill eds.,Westview Press, 1981.\n",
    "* Gard, T.C.  Introduction to Stochastic Differential Equation, Dekker, 1988.\n",
    "* Klebaner, Fima C. Introduction to Stochastic Calculus with Applications, 2nd Ed., Imperial\n",
    "College Press, 2004.\n",
    "* Øksendal, Bernt, Stochastic Differential Equations, An Introduction with Applications, 6th Ed., Springer-Verlag, 2007.\n",
    "* Wright, Swell. The distribution of Gene Frequencies under Irreversible Mutation. Proc. Nat’l.\n",
    "Acad. Sci., 24, 1938,253-259.\n"
   ]
  },
  {
   "cell_type": "markdown",
   "metadata": {},
   "source": [
    "#### Computational Stochastic Calculus"
   ]
  },
  {
   "cell_type": "markdown",
   "metadata": {},
   "source": [
    "* [Cyganowski, S., Grüne, L., Kloeden, P.E., MAPLE for Stochastic Differential Equations](num.math.uni-bayreuth.de/en/...et_al_maple.../gruene_et_al_maple_sde_2001.pdf)\n",
    "* [Kendall,W.S.: Symbolic Ito calculus in AXIOM: an ongoing story](   http://www.warwick.ac.uk/statsdept/staff/WSK/abstracts.html#327)"
   ]
  }
 ],
 "metadata": {
  "kernelspec": {
   "display_name": "Python 3",
   "language": "python",
   "name": "python3"
  },
  "language_info": {
   "codemirror_mode": {
    "name": "ipython",
    "version": 3
   },
   "file_extension": ".py",
   "mimetype": "text/x-python",
   "name": "python",
   "nbconvert_exporter": "python",
   "pygments_lexer": "ipython3",
   "version": "3.4.4"
  }
 },
 "nbformat": 4,
 "nbformat_minor": 0
}
